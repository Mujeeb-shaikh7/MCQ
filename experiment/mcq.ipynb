{
 "cells": [
  {
   "cell_type": "code",
   "execution_count": 19,
   "metadata": {},
   "outputs": [],
   "source": [
    "import os\n",
    "import json\n",
    "import pandas as pd\n",
    "import traceback"
   ]
  },
  {
   "cell_type": "code",
   "execution_count": 20,
   "metadata": {},
   "outputs": [
    {
     "data": {
      "text/plain": [
       "True"
      ]
     },
     "execution_count": 20,
     "metadata": {},
     "output_type": "execute_result"
    }
   ],
   "source": [
    "from dotenv import load_dotenv\n",
    "load_dotenv()"
   ]
  },
  {
   "cell_type": "code",
   "execution_count": 21,
   "metadata": {},
   "outputs": [],
   "source": [
    "key=os.getenv(\"OPENAI_API_KEY\")"
   ]
  },
  {
   "cell_type": "code",
   "execution_count": 73,
   "metadata": {},
   "outputs": [],
   "source": [
    "from langchain_openai import ChatOpenAI\n",
    "llm = ChatOpenAI(\n",
    "    model=\"gpt-4o\",\n",
    "    temperature=0.7,   \n",
    "   \n",
    ")"
   ]
  },
  {
   "cell_type": "code",
   "execution_count": 74,
   "metadata": {},
   "outputs": [
    {
     "data": {
      "text/plain": [
       "'Django is a high-level web framework for Python that encourages rapid development and clean, pragmatic design. It was created to simplify the process of building web applications by providing a robust set of tools and features. Here are some key points about Django:\\n\\n1. **MVC Pattern**: Django follows the Model-View-Controller (MVC) design pattern, although it calls it Model-View-Template (MVT). This pattern helps in separating the business logic from the user interface.\\n\\n2. **ORM**: Django includes an Object-Relational Mapping (ORM) system which allows developers to interact with the database using Python code instead of writing raw SQL queries. This makes database interactions more intuitive and less error-prone.\\n\\n3. **Admin Interface**: One of Django\\'s standout features is its automatically generated admin interface. After defining data models, Django can create a fully-featured, web-based administration panel without any additional coding.\\n\\n4. **Security**: Django comes with built-in protection against many common security threats, including SQL injection, cross-site scripting (XSS), cross-site request forgery (CSRF), and clickjacking.\\n\\n5. **Scalability**: Django is designed to help developers make scalable web applications. It has been used to build some of the largest websites in the world, including Instagram and Pinterest.\\n\\n6. **Batteries Included**: Django follows a \"batteries-included\" philosophy, meaning it comes with many features out of the box, such as authentication, URL routing, template engine, and an ORM.\\n\\n7. **Community and Documentation**: Django has a large and active community that contributes to its continuous improvement. Its documentation is comprehensive and considered one of the best in the open-source world.\\n\\n8. **Reusable Code**: Django promotes the use of \"apps,\" which are reusable modules that can be plugged into a larger project. This modular approach allows developers to reuse code across different projects.\\n\\n9. **REST Framework**: While Django is primarily used for building traditional web applications, it can also be used to build RESTful APIs. Django REST framework (DRF) is a powerful and flexible toolkit for building Web APIs.\\n\\n10. **Template System**: Django comes with its own template system, which allows developers to define the structure of their HTML files in a clean and maintainable way. Templates can include tags and filters to dynamically generate content.\\n\\n11. **Middleware**: Django\\'s middleware architecture allows for the processing of requests and responses globally. Middleware components can be used for tasks such as authentication, session management, and content compression.\\n\\n### Getting Started with Django\\n\\nTo get started with Django, you need to have Python installed on your machine. Here are the basic steps:\\n\\n1. **Install Django**:\\n   ```\\n   pip install django\\n   ```\\n\\n2. **Create a Django Project**:\\n   ```\\n   django-admin startproject myproject\\n   cd myproject\\n   ```\\n\\n3. **Run the Development Server**:\\n   ```\\n   python manage.py runserver\\n   ```\\n\\n4. **Create an App**:\\n   ```\\n   python manage.py startapp myapp\\n   ```\\n\\n5. **Define Models**:\\n   Edit the `models.py` file in your app to define your data models.\\n\\n6. **Apply Migrations**:\\n   ```\\n   python manage.py makemigrations\\n   python manage.py migrate\\n   ```\\n\\n7. **Create an Admin User**:\\n   ```\\n   python manage.py createsuperuser\\n   ```\\n\\n8. **Run the Server and Access the Admin Interface**:\\n   ```\\n   python manage.py runserver\\n   ```\\n   Navigate to `http://127.0.0.1:8000/admin` and log in with your admin user credentials.\\n\\nDjango is a powerful framework that can significantly speed up the development of web applications. Its comprehensive features, active community, and excellent documentation make it a popular choice among developers.'"
      ]
     },
     "execution_count": 74,
     "metadata": {},
     "output_type": "execute_result"
    }
   ],
   "source": [
    "llm.invoke(\"tell me about django\").content"
   ]
  },
  {
   "cell_type": "code",
   "execution_count": 75,
   "metadata": {},
   "outputs": [],
   "source": [
    "from langchain.llms import OpenAI\n",
    "from langchain.prompts import PromptTemplate\n",
    "from langchain.chains import LLMChain\n",
    "from langchain.chains import SequentialChain\n",
    "from langchain.callbacks import get_openai_callback\n",
    "import PyPDF2"
   ]
  },
  {
   "cell_type": "code",
   "execution_count": 76,
   "metadata": {},
   "outputs": [],
   "source": [
    "RESPONSE_JSON = {\n",
    "    \"1\": {\n",
    "        \"mcq\": \"multiple choice question\",\n",
    "        \"options\": {\n",
    "            \"a\": \"choice here\",\n",
    "            \"b\": \"choice here\",\n",
    "            \"c\": \"choice here\",\n",
    "            \"d\": \"choice here\",\n",
    "        },\n",
    "        \"correct\": \"correct answer\",\n",
    "    },\n",
    "    \"2\": {\n",
    "        \"mcq\": \"multiple choice question\",\n",
    "        \"options\": {\n",
    "            \"a\": \"choice here\",\n",
    "            \"b\": \"choice here\",\n",
    "            \"c\": \"choice here\",\n",
    "            \"d\": \"choice here\",\n",
    "        },\n",
    "        \"correct\": \"correct answer\",\n",
    "    },\n",
    "    \"3\": {\n",
    "        \"mcq\": \"multiple choice question\",\n",
    "        \"options\": {\n",
    "            \"a\": \"choice here\",\n",
    "            \"b\": \"choice here\",\n",
    "            \"c\": \"choice here\",\n",
    "            \"d\": \"choice here\",\n",
    "        },\n",
    "        \"correct\": \"correct answer\",\n",
    "    },\n",
    "}"
   ]
  },
  {
   "cell_type": "code",
   "execution_count": 77,
   "metadata": {},
   "outputs": [],
   "source": [
    "TEMPLATE=\"\"\"\n",
    "Text:{text}\n",
    "You are an expert MCQ maker. Given the above text, it is your job to \\\n",
    "create a quiz  of {number} multiple choice questions for {subject} students in {tone} tone. \n",
    "Make sure the questions are not repeated and check all the questions to be conforming the text as well.\n",
    "Make sure to format your response like  RESPONSE_JSON below  and use it as a guide. \\\n",
    "Ensure to make {number} MCQs\n",
    "\n",
    "{response_json}\n",
    "\n",
    "\"\"\""
   ]
  },
  {
   "cell_type": "code",
   "execution_count": 78,
   "metadata": {},
   "outputs": [],
   "source": [
    "quiz_generation_prompt = PromptTemplate(\n",
    "    input_variables=[\"text\", \"number\", \"subject\", \"tone\", \"response_json\"],\n",
    "    template=TEMPLATE\n",
    "    )"
   ]
  },
  {
   "cell_type": "code",
   "execution_count": 79,
   "metadata": {},
   "outputs": [],
   "source": [
    "quiz_chain=LLMChain(llm=llm, prompt=quiz_generation_prompt, output_key=\"quiz\", verbose=True)"
   ]
  },
  {
   "cell_type": "code",
   "execution_count": 80,
   "metadata": {},
   "outputs": [],
   "source": [
    "TEMPLATE2=\"\"\"\n",
    "You are an expert english grammarian and writer. Given a Multiple Choice Quiz for {subject} students.\\\n",
    "You need to evaluate the complexity of the question and give a complete analysis of the quiz. Only use at max 50 words for complexity analysis. \n",
    "if the quiz is not at per with the cognitive and analytical abilities of the students,\\\n",
    "update the quiz questions which needs to be changed and change the tone such that it perfectly fits the student abilities\n",
    "Quiz_MCQs:\n",
    "{quiz}\n",
    "\n",
    "Check from an expert English Writer of the above quiz:\"\"\""
   ]
  },
  {
   "cell_type": "code",
   "execution_count": 81,
   "metadata": {},
   "outputs": [],
   "source": [
    "quiz_evaluation_prompt=PromptTemplate(input_variables=[\"subject\", \"quiz\"], template=TEMPLATE2)\n"
   ]
  },
  {
   "cell_type": "code",
   "execution_count": 82,
   "metadata": {},
   "outputs": [],
   "source": [
    "review_chain=LLMChain(llm=llm, prompt=quiz_evaluation_prompt, output_key=\"review\", verbose=True)\n"
   ]
  },
  {
   "cell_type": "code",
   "execution_count": 83,
   "metadata": {},
   "outputs": [],
   "source": [
    "generate_evaluate_chain=SequentialChain(chains=[quiz_chain, review_chain], input_variables=[\"text\", \"number\", \"subject\", \"tone\", \"response_json\"],\n",
    "                                        output_variables=[\"quiz\", \"review\"], verbose=True,)"
   ]
  },
  {
   "cell_type": "code",
   "execution_count": 84,
   "metadata": {},
   "outputs": [],
   "source": [
    "file_path=r\"C:\\Users\\shmujeeb\\Desktop\\HU\\MCQ\\data.txt\""
   ]
  },
  {
   "cell_type": "code",
   "execution_count": 85,
   "metadata": {},
   "outputs": [
    {
     "data": {
      "text/plain": [
       "'C:\\\\Users\\\\shmujeeb\\\\Desktop\\\\HU\\\\MCQ\\\\data.txt'"
      ]
     },
     "execution_count": 85,
     "metadata": {},
     "output_type": "execute_result"
    }
   ],
   "source": [
    "file_path"
   ]
  },
  {
   "cell_type": "code",
   "execution_count": 86,
   "metadata": {},
   "outputs": [],
   "source": [
    "with open(file_path, 'r') as file:\n",
    "    TEXT = file.read()"
   ]
  },
  {
   "cell_type": "code",
   "execution_count": 87,
   "metadata": {},
   "outputs": [
    {
     "name": "stdout",
     "output_type": "stream",
     "text": [
      "Biology is the scientific study of life.[1][2][3] It is a natural science with a broad scope but has several unifying themes that tie it together as a single, coherent field.[1][2][3] For instance, all organisms are made up of cells that process hereditary information encoded in genes, which can be transmitted to future generations. Another major theme is evolution, which explains the unity and diversity of life.[1][2][3] Energy processing is also important to life as it allows organisms to move, grow, and reproduce.[1][2][3] Finally, all organisms are able to regulate their own internal environments.[1][2][3][4][5]\n",
      "\n",
      "Biologists are able to study life at multiple levels of organization,[1] from the molecular biology of a cell to the anatomy and physiology of plants and animals, and evolution of populations.[1][6] Hence, there are multiple subdisciplines within biology, each defined by the nature of their research questions and the tools that they use.[7][8][9] Like other scientists, biologists use the scientific method to make observations, pose questions, generate hypotheses, perform experiments, and form conclusions about the world around them.[1]\n",
      "\n",
      "Life on Earth, which emerged more than 3.7 billion years ago,[10] is immensely diverse. Biologists have sought to study and classify the various forms of life, from prokaryotic organisms such as archaea and bacteria to eukaryotic organisms such as protists, fungi, plants, and animals. These various organisms contribute to the biodiversity of an ecosystem, where they play specialized roles in the cycling of nutrients and energy through their biophysical environment.\n"
     ]
    }
   ],
   "source": [
    "print(TEXT)"
   ]
  },
  {
   "cell_type": "code",
   "execution_count": 88,
   "metadata": {},
   "outputs": [
    {
     "data": {
      "text/plain": [
       "'{\"1\": {\"mcq\": \"multiple choice question\", \"options\": {\"a\": \"choice here\", \"b\": \"choice here\", \"c\": \"choice here\", \"d\": \"choice here\"}, \"correct\": \"correct answer\"}, \"2\": {\"mcq\": \"multiple choice question\", \"options\": {\"a\": \"choice here\", \"b\": \"choice here\", \"c\": \"choice here\", \"d\": \"choice here\"}, \"correct\": \"correct answer\"}, \"3\": {\"mcq\": \"multiple choice question\", \"options\": {\"a\": \"choice here\", \"b\": \"choice here\", \"c\": \"choice here\", \"d\": \"choice here\"}, \"correct\": \"correct answer\"}}'"
      ]
     },
     "execution_count": 88,
     "metadata": {},
     "output_type": "execute_result"
    }
   ],
   "source": [
    "json.dumps(RESPONSE_JSON)"
   ]
  },
  {
   "cell_type": "code",
   "execution_count": 89,
   "metadata": {},
   "outputs": [],
   "source": [
    "NUMBER=5 \n",
    "SUBJECT=\"biology\"\n",
    "TONE=\"simple\""
   ]
  },
  {
   "cell_type": "code",
   "execution_count": 90,
   "metadata": {},
   "outputs": [
    {
     "name": "stdout",
     "output_type": "stream",
     "text": [
      "\n",
      "\n",
      "\u001b[1m> Entering new SequentialChain chain...\u001b[0m\n",
      "\n",
      "\n",
      "\u001b[1m> Entering new LLMChain chain...\u001b[0m\n",
      "Prompt after formatting:\n",
      "\u001b[32;1m\u001b[1;3m\n",
      "Text:Biology is the scientific study of life.[1][2][3] It is a natural science with a broad scope but has several unifying themes that tie it together as a single, coherent field.[1][2][3] For instance, all organisms are made up of cells that process hereditary information encoded in genes, which can be transmitted to future generations. Another major theme is evolution, which explains the unity and diversity of life.[1][2][3] Energy processing is also important to life as it allows organisms to move, grow, and reproduce.[1][2][3] Finally, all organisms are able to regulate their own internal environments.[1][2][3][4][5]\n",
      "\n",
      "Biologists are able to study life at multiple levels of organization,[1] from the molecular biology of a cell to the anatomy and physiology of plants and animals, and evolution of populations.[1][6] Hence, there are multiple subdisciplines within biology, each defined by the nature of their research questions and the tools that they use.[7][8][9] Like other scientists, biologists use the scientific method to make observations, pose questions, generate hypotheses, perform experiments, and form conclusions about the world around them.[1]\n",
      "\n",
      "Life on Earth, which emerged more than 3.7 billion years ago,[10] is immensely diverse. Biologists have sought to study and classify the various forms of life, from prokaryotic organisms such as archaea and bacteria to eukaryotic organisms such as protists, fungi, plants, and animals. These various organisms contribute to the biodiversity of an ecosystem, where they play specialized roles in the cycling of nutrients and energy through their biophysical environment.\n",
      "You are an expert MCQ maker. Given the above text, it is your job to create a quiz  of 5 multiple choice questions for biology students in simple tone. \n",
      "Make sure the questions are not repeated and check all the questions to be conforming the text as well.\n",
      "Make sure to format your response like  RESPONSE_JSON below  and use it as a guide. Ensure to make 5 MCQs\n",
      "\n",
      "{\"1\": {\"mcq\": \"multiple choice question\", \"options\": {\"a\": \"choice here\", \"b\": \"choice here\", \"c\": \"choice here\", \"d\": \"choice here\"}, \"correct\": \"correct answer\"}, \"2\": {\"mcq\": \"multiple choice question\", \"options\": {\"a\": \"choice here\", \"b\": \"choice here\", \"c\": \"choice here\", \"d\": \"choice here\"}, \"correct\": \"correct answer\"}, \"3\": {\"mcq\": \"multiple choice question\", \"options\": {\"a\": \"choice here\", \"b\": \"choice here\", \"c\": \"choice here\", \"d\": \"choice here\"}, \"correct\": \"correct answer\"}}\n",
      "\n",
      "\u001b[0m\n",
      "\n",
      "\u001b[1m> Finished chain.\u001b[0m\n",
      "\n",
      "\n",
      "\u001b[1m> Entering new LLMChain chain...\u001b[0m\n",
      "Prompt after formatting:\n",
      "\u001b[32;1m\u001b[1;3m\n",
      "You are an expert english grammarian and writer. Given a Multiple Choice Quiz for biology students.You need to evaluate the complexity of the question and give a complete analysis of the quiz. Only use at max 50 words for complexity analysis. \n",
      "if the quiz is not at per with the cognitive and analytical abilities of the students,update the quiz questions which needs to be changed and change the tone such that it perfectly fits the student abilities\n",
      "Quiz_MCQs:\n",
      "{\n",
      "  \"1\": {\n",
      "    \"mcq\": \"What is biology the scientific study of?\",\n",
      "    \"options\": {\n",
      "      \"a\": \"Physics\",\n",
      "      \"b\": \"Chemistry\",\n",
      "      \"c\": \"Life\",\n",
      "      \"d\": \"Astronomy\"\n",
      "    },\n",
      "    \"correct\": \"Life\"\n",
      "  },\n",
      "  \"2\": {\n",
      "    \"mcq\": \"Which of the following is a unifying theme in biology?\",\n",
      "    \"options\": {\n",
      "      \"a\": \"All organisms are made up of cells\",\n",
      "      \"b\": \"Planets orbit the sun\",\n",
      "      \"c\": \"Chemical reactions\",\n",
      "      \"d\": \"Gravitational force\"\n",
      "    },\n",
      "    \"correct\": \"All organisms are made up of cells\"\n",
      "  },\n",
      "  \"3\": {\n",
      "    \"mcq\": \"What major theme in biology explains the unity and diversity of life?\",\n",
      "    \"options\": {\n",
      "      \"a\": \"Photosynthesis\",\n",
      "      \"b\": \"Evolution\",\n",
      "      \"c\": \"Magnetism\",\n",
      "      \"d\": \"Gravity\"\n",
      "    },\n",
      "    \"correct\": \"Evolution\"\n",
      "  },\n",
      "  \"4\": {\n",
      "    \"mcq\": \"Which process is important to life because it allows organisms to move, grow, and reproduce?\",\n",
      "    \"options\": {\n",
      "      \"a\": \"Energy processing\",\n",
      "      \"b\": \"Evaporation\",\n",
      "      \"c\": \"Condensation\",\n",
      "      \"d\": \"Erosion\"\n",
      "    },\n",
      "    \"correct\": \"Energy processing\"\n",
      "  },\n",
      "  \"5\": {\n",
      "    \"mcq\": \"What do biologists use to make observations, pose questions, generate hypotheses, perform experiments, and form conclusions?\",\n",
      "    \"options\": {\n",
      "      \"a\": \"Astrological charts\",\n",
      "      \"b\": \"Scientific method\",\n",
      "      \"c\": \"Magic spells\",\n",
      "      \"d\": \"Random guesses\"\n",
      "    },\n",
      "    \"correct\": \"Scientific method\"\n",
      "  }\n",
      "}\n",
      "\n",
      "Check from an expert English Writer of the above quiz:\u001b[0m\n",
      "\n",
      "\u001b[1m> Finished chain.\u001b[0m\n",
      "\n",
      "\u001b[1m> Finished chain.\u001b[0m\n"
     ]
    }
   ],
   "source": [
    "with get_openai_callback() as cb:\n",
    "    response=generate_evaluate_chain(\n",
    "        {\n",
    "            \"text\": TEXT,\n",
    "            \"number\": NUMBER,\n",
    "            \"subject\":SUBJECT,\n",
    "            \"tone\": TONE,\n",
    "            \"response_json\": json.dumps(RESPONSE_JSON)\n",
    "        }\n",
    "        )"
   ]
  },
  {
   "cell_type": "code",
   "execution_count": 91,
   "metadata": {},
   "outputs": [
    {
     "name": "stdout",
     "output_type": "stream",
     "text": [
      "Total Tokens:1784\n",
      "Prompt Tokens:1088\n",
      "Completion Tokens:696\n",
      "Total Cost:0.01588\n"
     ]
    }
   ],
   "source": [
    "print(f\"Total Tokens:{cb.total_tokens}\")\n",
    "print(f\"Prompt Tokens:{cb.prompt_tokens}\")\n",
    "print(f\"Completion Tokens:{cb.completion_tokens}\")\n",
    "print(f\"Total Cost:{cb.total_cost}\")"
   ]
  },
  {
   "cell_type": "code",
   "execution_count": 92,
   "metadata": {},
   "outputs": [
    {
     "data": {
      "text/plain": [
       "{'text': 'Biology is the scientific study of life.[1][2][3] It is a natural science with a broad scope but has several unifying themes that tie it together as a single, coherent field.[1][2][3] For instance, all organisms are made up of cells that process hereditary information encoded in genes, which can be transmitted to future generations. Another major theme is evolution, which explains the unity and diversity of life.[1][2][3] Energy processing is also important to life as it allows organisms to move, grow, and reproduce.[1][2][3] Finally, all organisms are able to regulate their own internal environments.[1][2][3][4][5]\\n\\nBiologists are able to study life at multiple levels of organization,[1] from the molecular biology of a cell to the anatomy and physiology of plants and animals, and evolution of populations.[1][6] Hence, there are multiple subdisciplines within biology, each defined by the nature of their research questions and the tools that they use.[7][8][9] Like other scientists, biologists use the scientific method to make observations, pose questions, generate hypotheses, perform experiments, and form conclusions about the world around them.[1]\\n\\nLife on Earth, which emerged more than 3.7 billion years ago,[10] is immensely diverse. Biologists have sought to study and classify the various forms of life, from prokaryotic organisms such as archaea and bacteria to eukaryotic organisms such as protists, fungi, plants, and animals. These various organisms contribute to the biodiversity of an ecosystem, where they play specialized roles in the cycling of nutrients and energy through their biophysical environment.',\n",
       " 'number': 5,\n",
       " 'subject': 'biology',\n",
       " 'tone': 'simple',\n",
       " 'response_json': '{\"1\": {\"mcq\": \"multiple choice question\", \"options\": {\"a\": \"choice here\", \"b\": \"choice here\", \"c\": \"choice here\", \"d\": \"choice here\"}, \"correct\": \"correct answer\"}, \"2\": {\"mcq\": \"multiple choice question\", \"options\": {\"a\": \"choice here\", \"b\": \"choice here\", \"c\": \"choice here\", \"d\": \"choice here\"}, \"correct\": \"correct answer\"}, \"3\": {\"mcq\": \"multiple choice question\", \"options\": {\"a\": \"choice here\", \"b\": \"choice here\", \"c\": \"choice here\", \"d\": \"choice here\"}, \"correct\": \"correct answer\"}}',\n",
       " 'quiz': '{\\n  \"1\": {\\n    \"mcq\": \"What is biology the scientific study of?\",\\n    \"options\": {\\n      \"a\": \"Physics\",\\n      \"b\": \"Chemistry\",\\n      \"c\": \"Life\",\\n      \"d\": \"Astronomy\"\\n    },\\n    \"correct\": \"Life\"\\n  },\\n  \"2\": {\\n    \"mcq\": \"Which of the following is a unifying theme in biology?\",\\n    \"options\": {\\n      \"a\": \"All organisms are made up of cells\",\\n      \"b\": \"Planets orbit the sun\",\\n      \"c\": \"Chemical reactions\",\\n      \"d\": \"Gravitational force\"\\n    },\\n    \"correct\": \"All organisms are made up of cells\"\\n  },\\n  \"3\": {\\n    \"mcq\": \"What major theme in biology explains the unity and diversity of life?\",\\n    \"options\": {\\n      \"a\": \"Photosynthesis\",\\n      \"b\": \"Evolution\",\\n      \"c\": \"Magnetism\",\\n      \"d\": \"Gravity\"\\n    },\\n    \"correct\": \"Evolution\"\\n  },\\n  \"4\": {\\n    \"mcq\": \"Which process is important to life because it allows organisms to move, grow, and reproduce?\",\\n    \"options\": {\\n      \"a\": \"Energy processing\",\\n      \"b\": \"Evaporation\",\\n      \"c\": \"Condensation\",\\n      \"d\": \"Erosion\"\\n    },\\n    \"correct\": \"Energy processing\"\\n  },\\n  \"5\": {\\n    \"mcq\": \"What do biologists use to make observations, pose questions, generate hypotheses, perform experiments, and form conclusions?\",\\n    \"options\": {\\n      \"a\": \"Astrological charts\",\\n      \"b\": \"Scientific method\",\\n      \"c\": \"Magic spells\",\\n      \"d\": \"Random guesses\"\\n    },\\n    \"correct\": \"Scientific method\"\\n  }\\n}',\n",
       " 'review': '### Complexity Analysis\\nThe questions in the quiz are straightforward and appropriate for introductory biology students. They focus on foundational concepts such as the definition of biology, unifying themes, and the scientific method. However, some questions could be slightly more challenging to better assess cognitive and analytical abilities.\\n\\n### Updated Quiz with Enhanced Complexity\\n\\n**Question 1:**\\nWhat is the primary focus of the scientific study of biology?\\n- a) Physics\\n- b) Chemistry\\n- c) Life\\n- d) Astronomy\\n\\n**Question 2:**\\nWhich concept serves as a fundamental unifying theme across all biological sciences?\\n- a) All organisms are made up of cells\\n- b) Planets orbit the sun\\n- c) Chemical reactions\\n- d) Gravitational force\\n\\n**Question 3:**\\nWhich major theme in biology provides a comprehensive explanation for both the unity and the diversity of life on Earth?\\n- a) Photosynthesis\\n- b) Evolution\\n- c) Magnetism\\n- d) Gravity\\n\\n**Question 4:**\\nWhich biological process is essential for organisms to perform vital functions such as movement, growth, and reproduction?\\n- a) Energy processing\\n- b) Evaporation\\n- c) Condensation\\n- d) Erosion\\n\\n**Question 5:**\\nWhat structured approach do biologists utilize to observe phenomena, pose questions, formulate hypotheses, conduct experiments, and draw conclusions?\\n- a) Astrological charts\\n- b) Scientific method\\n- c) Magic spells\\n- d) Random guesses'}"
      ]
     },
     "execution_count": 92,
     "metadata": {},
     "output_type": "execute_result"
    }
   ],
   "source": [
    "response"
   ]
  },
  {
   "cell_type": "code",
   "execution_count": 93,
   "metadata": {},
   "outputs": [],
   "source": [
    "quiz=response.get(\"quiz\")"
   ]
  },
  {
   "cell_type": "code",
   "execution_count": 94,
   "metadata": {},
   "outputs": [],
   "source": [
    "quiz=json.loads(quiz)"
   ]
  },
  {
   "cell_type": "code",
   "execution_count": 97,
   "metadata": {},
   "outputs": [],
   "source": [
    "quiz_table_data = []\n",
    "for key, value in quiz.items():\n",
    "    mcq = value[\"mcq\"]\n",
    "    options = \" | \".join(\n",
    "        [\n",
    "            f\"{option}: {option_value}\"\n",
    "            for option, option_value in value[\"options\"].items()\n",
    "            ]\n",
    "        )\n",
    "    correct = value[\"correct\"]\n",
    "    quiz_table_data.append({\"MCQ\": mcq, \"Choices\": options, \"Correct\": correct})"
   ]
  },
  {
   "cell_type": "code",
   "execution_count": 98,
   "metadata": {},
   "outputs": [],
   "source": [
    "quiz=pd.DataFrame(quiz_table_data)"
   ]
  },
  {
   "cell_type": "code",
   "execution_count": 99,
   "metadata": {},
   "outputs": [
    {
     "data": {
      "text/plain": [
       "[{'MCQ': 'What is biology the scientific study of?',\n",
       "  'Choices': 'a: Physics | b: Chemistry | c: Life | d: Astronomy',\n",
       "  'Correct': 'Life'},\n",
       " {'MCQ': 'Which of the following is a unifying theme in biology?',\n",
       "  'Choices': 'a: All organisms are made up of cells | b: Planets orbit the sun | c: Chemical reactions | d: Gravitational force',\n",
       "  'Correct': 'All organisms are made up of cells'},\n",
       " {'MCQ': 'What major theme in biology explains the unity and diversity of life?',\n",
       "  'Choices': 'a: Photosynthesis | b: Evolution | c: Magnetism | d: Gravity',\n",
       "  'Correct': 'Evolution'},\n",
       " {'MCQ': 'Which process is important to life because it allows organisms to move, grow, and reproduce?',\n",
       "  'Choices': 'a: Energy processing | b: Evaporation | c: Condensation | d: Erosion',\n",
       "  'Correct': 'Energy processing'},\n",
       " {'MCQ': 'What do biologists use to make observations, pose questions, generate hypotheses, perform experiments, and form conclusions?',\n",
       "  'Choices': 'a: Astrological charts | b: Scientific method | c: Magic spells | d: Random guesses',\n",
       "  'Correct': 'Scientific method'}]"
      ]
     },
     "execution_count": 99,
     "metadata": {},
     "output_type": "execute_result"
    }
   ],
   "source": [
    "quiz_table_data"
   ]
  },
  {
   "cell_type": "code",
   "execution_count": 100,
   "metadata": {},
   "outputs": [],
   "source": [
    "quiz.to_csv(\"machinelearning.csv\",index=False)"
   ]
  },
  {
   "cell_type": "code",
   "execution_count": null,
   "metadata": {},
   "outputs": [],
   "source": []
  }
 ],
 "metadata": {
  "kernelspec": {
   "display_name": "venv",
   "language": "python",
   "name": "python3"
  },
  "language_info": {
   "codemirror_mode": {
    "name": "ipython",
    "version": 3
   },
   "file_extension": ".py",
   "mimetype": "text/x-python",
   "name": "python",
   "nbconvert_exporter": "python",
   "pygments_lexer": "ipython3",
   "version": "3.12.4"
  }
 },
 "nbformat": 4,
 "nbformat_minor": 2
}
