{
 "cells": [
  {
   "cell_type": "code",
   "execution_count": 1,
   "metadata": {},
   "outputs": [],
   "source": [
    "import os\n",
    "import json\n",
    "import pandas as pd\n",
    "import traceback"
   ]
  },
  {
   "cell_type": "code",
   "execution_count": 12,
   "metadata": {},
   "outputs": [
    {
     "data": {
      "text/plain": [
       "True"
      ]
     },
     "execution_count": 12,
     "metadata": {},
     "output_type": "execute_result"
    }
   ],
   "source": [
    "from dotenv import load_dotenv\n",
    "load_dotenv()"
   ]
  },
  {
   "cell_type": "code",
   "execution_count": 13,
   "metadata": {},
   "outputs": [],
   "source": [
    "key=os.getenv(\"OPENAI_API_KEY\")"
   ]
  },
  {
   "cell_type": "code",
   "execution_count": 9,
   "metadata": {},
   "outputs": [],
   "source": [
    "from langchain_openai import ChatOpenAI\n",
    "llm = ChatOpenAI(\n",
    "    model=\"gpt-4o\",\n",
    "    temperature=0.7,   \n",
    "    api_key=key \n",
    ")"
   ]
  },
  {
   "cell_type": "code",
   "execution_count": 10,
   "metadata": {},
   "outputs": [
    {
     "data": {
      "text/plain": [
       "'Django is a high-level, open-source web framework written in Python that encourages rapid development and clean, pragmatic design. It follows the \"batteries-included\" philosophy, meaning it comes with many built-in features to handle common web development tasks. Django was originally developed to meet the fast-paced requirements of a newsroom and was released publicly in 2005.\\n\\nHere are some key features and aspects of Django:\\n\\n### Key Features\\n\\n1. **ORM (Object-Relational Mapping)**:\\n   - Django\\'s ORM allows developers to interact with the database using Python code instead of SQL queries. It supports multiple database backends like PostgreSQL, MySQL, SQLite, and Oracle.\\n\\n2. **URL Routing**:\\n   - Django uses a URL dispatcher to map URL patterns to views, enabling clean and manageable URLs.\\n\\n3. **Templating Engine**:\\n   - The Django templating engine helps in creating dynamic web pages by using a combination of HTML and Django Template Language.\\n\\n4. **Admin Interface**:\\n   - Django comes with a built-in admin interface that can be customized. This interface provides a user-friendly way to manage application data.\\n\\n5. **Form Handling**:\\n   - Django simplifies form generation, validation, and processing.\\n\\n6. **Authentication**:\\n   - It includes a robust authentication system to manage users, groups, permissions, and more.\\n\\n7. **Middleware**:\\n   - Middleware components allow you to process requests globally before they reach the view or after the view has processed them.\\n\\n8. **Security**:\\n   - Django provides various security features to protect against common web threats like SQL injection, cross-site scripting (XSS), and cross-site request forgery (CSRF).\\n\\n9. **Scalability**:\\n   - Django is designed to handle high traffic loads and can be scaled easily.\\n\\n10. **Community and Documentation**:\\n    - Django has a large and active community. Its comprehensive documentation makes it easier for developers to learn and use the framework effectively.\\n\\n### Architecture\\n\\nDjango follows the MVC (Model-View-Controller) architectural pattern, although it is often described as MTV (Model-Template-View) because the terminology differs slightly:\\n\\n- **Model**: Represents the data structure. It is the data access layer.\\n- **Template**: Deals with the presentation layer. It describes how data should be presented.\\n- **View**: Acts as the business logic layer. It handles user input, interacts with models, and renders the appropriate template.\\n\\n### Getting Started\\n\\n1. **Installation**:\\n   ```bash\\n   pip install django\\n   ```\\n\\n2. **Creating a Project**:\\n   ```bash\\n   django-admin startproject myproject\\n   cd myproject\\n   ```\\n\\n3. **Creating an App**:\\n   ```bash\\n   python manage.py startapp myapp\\n   ```\\n\\n4. **Running the Development Server**:\\n   ```bash\\n   python manage.py runserver\\n   ```\\n\\n### Example\\n\\nHere\\'s a simple example of a Django view:\\n\\n```python\\n# views.py\\nfrom django.http import HttpResponse\\n\\ndef hello_world(request):\\n    return HttpResponse(\"Hello, world!\")\\n```\\n\\nTo map this view to a URL, you would add the following to your `urls.py`:\\n\\n```python\\n# urls.py\\nfrom django.urls import path\\nfrom .views import hello_world\\n\\nurlpatterns = [\\n    path(\\'hello/\\', hello_world),\\n]\\n```\\n\\nAfter setting this up, navigating to `http://127.0.0.1:8000/hello/` would display \"Hello, world!\".\\n\\n### Use Cases\\n\\n- **Content Management Systems (CMS)**\\n- **E-commerce Platforms**\\n- **Social Networks**\\n- **Scientific Computing Platforms**\\n- **APIs and Backend Servers**\\n\\nDjango\\'s versatility, ease of use, and comprehensive feature set make it a popular choice for developers looking to build robust, scalable web applications.'"
      ]
     },
     "execution_count": 10,
     "metadata": {},
     "output_type": "execute_result"
    }
   ],
   "source": [
    "llm.invoke(\"tell me about django\").content"
   ]
  },
  {
   "cell_type": "code",
   "execution_count": null,
   "metadata": {},
   "outputs": [],
   "source": []
  }
 ],
 "metadata": {
  "kernelspec": {
   "display_name": "venv",
   "language": "python",
   "name": "python3"
  },
  "language_info": {
   "codemirror_mode": {
    "name": "ipython",
    "version": 3
   },
   "file_extension": ".py",
   "mimetype": "text/x-python",
   "name": "python",
   "nbconvert_exporter": "python",
   "pygments_lexer": "ipython3",
   "version": "3.12.4"
  }
 },
 "nbformat": 4,
 "nbformat_minor": 2
}
